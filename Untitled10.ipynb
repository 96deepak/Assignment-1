{
 "cells": [
  {
   "cell_type": "code",
   "execution_count": 1,
   "id": "89c148ba-2a33-476f-bf3e-3299b7de0aa9",
   "metadata": {},
   "outputs": [],
   "source": [
    "#Practice Sum Of Two Number"
   ]
  },
  {
   "cell_type": "code",
   "execution_count": 2,
   "id": "a23125f1-826f-4709-a339-330334fc924b",
   "metadata": {},
   "outputs": [],
   "source": [
    "a=20"
   ]
  },
  {
   "cell_type": "code",
   "execution_count": 3,
   "id": "2d5b4795-933a-47a7-ab60-23494758600d",
   "metadata": {},
   "outputs": [],
   "source": [
    "b=90"
   ]
  },
  {
   "cell_type": "code",
   "execution_count": 4,
   "id": "7cc29101-f811-4ed3-a219-6b76750b8f89",
   "metadata": {},
   "outputs": [],
   "source": [
    "c=a+b"
   ]
  },
  {
   "cell_type": "code",
   "execution_count": 5,
   "id": "7607c194-6c58-4312-a8ba-a2add4a89c4b",
   "metadata": {},
   "outputs": [
    {
     "data": {
      "text/plain": [
       "110"
      ]
     },
     "execution_count": 5,
     "metadata": {},
     "output_type": "execute_result"
    }
   ],
   "source": [
    "c"
   ]
  },
  {
   "cell_type": "code",
   "execution_count": 6,
   "id": "ce226920-cc90-4100-8948-18d3b8f95b1d",
   "metadata": {},
   "outputs": [],
   "source": [
    "# With useer input"
   ]
  },
  {
   "cell_type": "code",
   "execution_count": 8,
   "id": "e1535de8-99de-4450-b830-f83691ea2750",
   "metadata": {},
   "outputs": [
    {
     "name": "stdin",
     "output_type": "stream",
     "text": [
      "inter number 45\n",
      "inter another number 87\n"
     ]
    },
    {
     "name": "stdout",
     "output_type": "stream",
     "text": [
      "sum of the number 132.0\n"
     ]
    }
   ],
   "source": [
    "p=float(input(\"inter number\"))\n",
    "q=float(input(\"inter another number\"))\n",
    "sum=p+q\n",
    "print(\"sum of the number\",sum)"
   ]
  },
  {
   "cell_type": "code",
   "execution_count": 9,
   "id": "2ace338f-4263-49a3-b79e-e191cbd70223",
   "metadata": {},
   "outputs": [],
   "source": [
    "# Subtract two number"
   ]
  },
  {
   "cell_type": "code",
   "execution_count": 14,
   "id": "c9a906dd-88c7-45f6-aa0c-ea01cda89cff",
   "metadata": {},
   "outputs": [],
   "source": [
    "A1=67\n",
    "B1=90\n",
    "C1=A1-B1"
   ]
  },
  {
   "cell_type": "code",
   "execution_count": 15,
   "id": "33d7bcf4-1e12-400e-ba61-dc2a127cec34",
   "metadata": {},
   "outputs": [
    {
     "data": {
      "text/plain": [
       "-23"
      ]
     },
     "execution_count": 15,
     "metadata": {},
     "output_type": "execute_result"
    }
   ],
   "source": [
    "C1\n"
   ]
  },
  {
   "cell_type": "code",
   "execution_count": 16,
   "id": "eef7488d-9d6a-4bf2-844f-4c98c46c40c2",
   "metadata": {},
   "outputs": [
    {
     "name": "stdout",
     "output_type": "stream",
     "text": [
      "subtraction of two number -23\n"
     ]
    }
   ],
   "source": [
    "print(\"subtraction of two number\",C1)"
   ]
  },
  {
   "cell_type": "code",
   "execution_count": 17,
   "id": "0b6f1e8b-3135-4337-b796-0a33b758e717",
   "metadata": {},
   "outputs": [],
   "source": [
    "# suntraction of two number from users input"
   ]
  },
  {
   "cell_type": "code",
   "execution_count": 19,
   "id": "922fa750-e263-4831-8ac9-ee3235908b5a",
   "metadata": {},
   "outputs": [
    {
     "name": "stdin",
     "output_type": "stream",
     "text": [
      "inter first number 778\n",
      "inter second number 989\n"
     ]
    },
    {
     "name": "stdout",
     "output_type": "stream",
     "text": [
      "subtraction of two number -211.0\n"
     ]
    }
   ],
   "source": [
    "p1=float(input(\"inter first number\"))\n",
    "p2=float(input(\"inter second number\"))\n",
    "sub=p1-p2\n",
    "print(\"subtraction of two number\",sub)"
   ]
  },
  {
   "cell_type": "code",
   "execution_count": null,
   "id": "b1f703d9-a520-4b79-a36e-b087eb2719fe",
   "metadata": {},
   "outputs": [],
   "source": []
  }
 ],
 "metadata": {
  "kernelspec": {
   "display_name": "Python 3 (ipykernel)",
   "language": "python",
   "name": "python3"
  },
  "language_info": {
   "codemirror_mode": {
    "name": "ipython",
    "version": 3
   },
   "file_extension": ".py",
   "mimetype": "text/x-python",
   "name": "python",
   "nbconvert_exporter": "python",
   "pygments_lexer": "ipython3",
   "version": "3.12.3"
  }
 },
 "nbformat": 4,
 "nbformat_minor": 5
}
